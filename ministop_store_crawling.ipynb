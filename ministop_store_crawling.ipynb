{
 "cells": [
  {
   "cell_type": "markdown",
   "id": "6cef5ce6",
   "metadata": {},
   "source": [
    "# 미니스탑 매장 정보 크롤링"
   ]
  },
  {
   "cell_type": "code",
   "execution_count": 1,
   "id": "88e936fc",
   "metadata": {},
   "outputs": [],
   "source": [
    "from selenium import webdriver\n",
    "from bs4 import BeautifulSoup\n",
    "from selenium.webdriver.chrome.service import Service\n",
    "from webdriver_manager.chrome import ChromeDriverManager\n",
    "from selenium.webdriver.common.by import By\n",
    "from selenium.webdriver.support.select import Select\n",
    "import time\n",
    "import pandas as pd"
   ]
  },
  {
   "cell_type": "code",
   "execution_count": 2,
   "id": "d6c8e7d7",
   "metadata": {},
   "outputs": [],
   "source": [
    "def ministop_store(location, result):\n",
    "    wd = webdriver.Chrome(service=Service(ChromeDriverManager().install()))\n",
    "    wd.get(\"https://www.ministop.co.kr/MiniStopHomePage/page/store/store.do\")\n",
    "    time.sleep(1)\n",
    "    try:\n",
    "        wd.execute_script(\"document.querySelector('#section > div.inner.wrap > div > div.store_content > div.store_txt > ul > li.on > a').click()\")\n",
    "\n",
    "        select = Select(wd.find_element(By.ID, \"area1\"))\n",
    "        select.select_by_visible_text(location) # 지역선택\n",
    "\n",
    "        wd.execute_script(\"document.querySelector('#area1 > option:nth-child(2)')\")\n",
    "        wd.execute_script('document.querySelector(\"#section > div.inner.wrap > div > div.store_content > div.store_txt > div.area > a\").click()')\n",
    "\n",
    "        time.sleep(1)\n",
    "        html = wd.page_source   # 수행된 페이지의 소스코드 저장\n",
    "        soup = BeautifulSoup(html, 'html.parser') #html 소스 파싱\n",
    "\n",
    "        store_li = soup.select(\"div.area > ul > li\") # 매장 정보를 갖고 있는 태그 가져오기\n",
    "\n",
    "        store_list=[] #추출한 태그에서 매장정보를 문자열로 리스트에 저장\n",
    "        for i in range(0, len(store_li)):\n",
    "            store_list.append(store_li[i].text)\n",
    "\n",
    "        # 추출된 문자열 리스트에는 앞, 뒤 공백이 있으므로 제거해줌.\n",
    "        for s in store_list:\n",
    "            s = s.strip()   # 앞 뒤 공백제거\n",
    "            s = s.split(\"\\n\\t\")\n",
    "            store_name = s[0]\n",
    "            store_address = s[1]\n",
    "            store_tel = s[2]\n",
    "            result.append([store_name] + [store_address] + [store_tel])\n",
    "            \n",
    "    except:\n",
    "        return None\n",
    "        \n",
    "    return \n"
   ]
  },
  {
   "cell_type": "code",
   "execution_count": 3,
   "id": "53b6a691",
   "metadata": {},
   "outputs": [],
   "source": [
    "def main():\n",
    "    location = input(\"알고 싶은 미니스톱 매장 지역을 입력 (서울, 경기, 강원, 충남, 충북, 인천, 부산, 광주, 전남, 전북, 경북, 경남, 대구, 울산, 세종, 대전) : \")\n",
    "    result = []\n",
    "    ministop_store(location, result) \n",
    "    \n",
    "    \n",
    "    # csv 파일에 저장\n",
    "    CB_tbl = pd.DataFrame(result, columns=('store', 'address', 'phone'))\n",
    "    CB_tbl.to_csv('./data/ministop_store_%s.csv' %(location), encoding='cp949', mode='w', index=True)\n",
    "    \n",
    "    print(\"저장 완료\")"
   ]
  },
  {
   "cell_type": "code",
   "execution_count": 4,
   "id": "84270c0a",
   "metadata": {
    "scrolled": false
   },
   "outputs": [
    {
     "name": "stdout",
     "output_type": "stream",
     "text": [
      "알고 싶은 미니스톱 매장 지역을 입력 (서울, 경기, 강원, 충남, 충북, 인천, 부산, 광주, 전남, 전북, 경북, 경남, 대구, 울산, 세종, 대전) : 서울\n",
      "저장 완료\n"
     ]
    }
   ],
   "source": [
    "if __name__ == '__main__' :\n",
    "   main()\n",
    "    "
   ]
  }
 ],
 "metadata": {
  "kernelspec": {
   "display_name": "Python 3",
   "language": "python",
   "name": "python3"
  },
  "language_info": {
   "codemirror_mode": {
    "name": "ipython",
    "version": 3
   },
   "file_extension": ".py",
   "mimetype": "text/x-python",
   "name": "python",
   "nbconvert_exporter": "python",
   "pygments_lexer": "ipython3",
   "version": "3.10.4 (tags/v3.10.4:9d38120, Mar 23 2022, 23:13:41) [MSC v.1929 64 bit (AMD64)]"
  },
  "vscode": {
   "interpreter": {
    "hash": "1fa163922eb0b3709bbb5d8082b2465c9de796dbaacca80cbaa600e7fff3e4fe"
   }
  }
 },
 "nbformat": 4,
 "nbformat_minor": 5
}
